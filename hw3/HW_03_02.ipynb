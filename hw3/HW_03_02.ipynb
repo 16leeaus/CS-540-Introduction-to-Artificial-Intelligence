{
 "metadata": {
  "language_info": {
   "codemirror_mode": {
    "name": "ipython",
    "version": 3
   },
   "file_extension": ".py",
   "mimetype": "text/x-python",
   "name": "python",
   "nbconvert_exporter": "python",
   "pygments_lexer": "ipython3",
   "version": "3.8.5-final"
  },
  "orig_nbformat": 2,
  "kernelspec": {
   "name": "python3",
   "display_name": "Python 3",
   "language": "python"
  }
 },
 "nbformat": 4,
 "nbformat_minor": 2,
 "cells": [
  {
   "cell_type": "code",
   "execution_count": 70,
   "metadata": {},
   "outputs": [],
   "source": [
    "from scipy.linalg import eigh\n",
    "import numpy as np\n",
    "import matplotlib.pyplot as plt"
   ]
  },
  {
   "cell_type": "code",
   "execution_count": 71,
   "metadata": {},
   "outputs": [
    {
     "output_type": "stream",
     "name": "stdout",
     "text": [
      "Number of images:\n2414\n\nNumber of features per image:\n1024\n\n-8.315174931741023e-17\nCovariance Matrix:\n[[10834106.66114334 10591496.55260978  9640188.26760563 ...\n  -4213842.84341342 -4145460.04805302 -4216430.41507871]\n [10591496.55260978 10844823.76139187  9946189.67605633 ...\n  -4358372.31648716 -4287516.89229495 -4330288.62137531]\n [ 9640188.26760563  9946189.67605633 10051249.58450704 ...\n  -4138962.93661972 -4032907.97183099 -4081719.73943662]\n ...\n [-4213842.84341342 -4358372.31648716 -4138962.93661972 ...\n   9064046.5107705   8654628.46230323  7768126.21748136]\n [-4145460.04805302 -4287516.89229495 -4032907.97183099 ...\n   8654628.46230323  8678799.3819387   7944696.48881524]\n [-4216430.41507871 -4330288.62137531 -4081719.73943662 ...\n   7768126.21748136  7944696.48881524  8438661.75683513]]\n\nLength of covMatrix: 1024\n"
     ]
    }
   ],
   "source": [
    "filename = 'YaleB_32x32.npy'\n",
    "\n",
    "def load_and_center_dataset(filename):\n",
    "    dataset = np.load(filename)\n",
    "    dataset = dataset - np.mean(dataset, axis = 0)\n",
    "    return dataset\n",
    "\n",
    "dataset = load_and_center_dataset('YaleB_32x32.npy')\n",
    "print (\"Number of images:\")\n",
    "print (len(dataset))\n",
    "print (\"\")\n",
    "print (\"Number of features per image:\")\n",
    "print (len(dataset[0]))\n",
    "print (\"\")\n",
    "print (np.average(dataset))\n",
    "\n",
    "def get_covariance(dataset):\n",
    "    #t = np.transpose(dataset)\n",
    "\n",
    "    S = np.dot(np.transpose(dataset), dataset)\n",
    "    m = len(S)\n",
    "    return S, m\n",
    "\n",
    "#dataset = load_and_center_dataset('YaleB_32x32.npy')\n",
    "#dataset = np.array([[1,2,5],[3,4,7]])\n",
    "S, m = get_covariance(dataset)\n",
    "print (\"Covariance Matrix:\")\n",
    "print (S)\n",
    "print (\"\")\n",
    "print ('Length of covMatrix:' , m)"
   ]
  },
  {
   "cell_type": "code",
   "execution_count": null,
   "metadata": {},
   "outputs": [],
   "source": [
    "def get_covariance(dataset):\n",
    "    #t = np.transpose(dataset)\n",
    "\n",
    "    S = np.dot(np.transpose(dataset), dataset)\n",
    "    m = len(S)\n",
    "    return S, m\n",
    "\n",
    "#dataset = load_and_center_dataset('YaleB_32x32.npy')\n",
    "dataset = np.array([[1,2,5],[3,4,7]])\n",
    "S, m = get_covariance(dataset)\n",
    "print (\"Covariance Matrix:\")\n",
    "print (S)\n",
    "print (\"\")\n",
    "print ('Length of covMatrix:' , m)"
   ]
  },
  {
   "cell_type": "code",
   "execution_count": null,
   "metadata": {},
   "outputs": [],
   "source": [
    "def get_eig(S, m):\n",
    "    "
   ]
  }
 ]
}